{
 "cells": [
  {
   "cell_type": "markdown",
   "id": "0a4dd779-4c70-49ec-96c5-a1063edfd6c5",
   "metadata": {},
   "source": [
    "# Pandas\n",
    "\n",
    "Aprendendo a usar pandas!"
   ]
  },
  {
   "cell_type": "code",
   "execution_count": 3,
   "id": "7418122e-6099-4f24-aa50-fadc755f4755",
   "metadata": {},
   "outputs": [],
   "source": [
    "import pandas as pd"
   ]
  },
  {
   "cell_type": "code",
   "execution_count": null,
   "id": "bca95d4f-5ef5-49f9-bbd3-aa9e86ddf080",
   "metadata": {},
   "outputs": [],
   "source": []
  }
 ],
 "metadata": {
  "kernelspec": {
   "display_name": "Python 3 (ipykernel)",
   "language": "python",
   "name": "python3"
  },
  "language_info": {
   "codemirror_mode": {
    "name": "ipython",
    "version": 3
   },
   "file_extension": ".py",
   "mimetype": "text/x-python",
   "name": "python",
   "nbconvert_exporter": "python",
   "pygments_lexer": "ipython3",
   "version": "3.12.5"
  }
 },
 "nbformat": 4,
 "nbformat_minor": 5
}

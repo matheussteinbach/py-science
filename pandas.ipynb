{
 "cells": [
  {
   "cell_type": "markdown",
   "id": "0a4dd779-4c70-49ec-96c5-a1063edfd6c5",
   "metadata": {},
   "source": [
    "# Pandas\n",
    "\n",
    "Aprendendo a usar pandas!"
   ]
  },
  {
   "cell_type": "code",
   "execution_count": 3,
   "id": "7418122e-6099-4f24-aa50-fadc755f4755",
   "metadata": {},
   "outputs": [],
   "source": [
    "import pandas as pd"
   ]
  },
  {
   "cell_type": "markdown",
   "id": "eeab9450-b157-4a5f-b921-ddf3e742a76e",
   "metadata": {},
   "source": [
    "pd.read_csv() mais usado"
   ]
  },
  {
   "cell_type": "code",
   "execution_count": 4,
   "id": "bca95d4f-5ef5-49f9-bbd3-aa9e86ddf080",
   "metadata": {},
   "outputs": [
    {
     "ename": "TypeError",
     "evalue": "read_csv() missing 1 required positional argument: 'filepath_or_buffer'",
     "output_type": "error",
     "traceback": [
      "\u001b[1;31m---------------------------------------------------------------------------\u001b[0m",
      "\u001b[1;31mTypeError\u001b[0m                                 Traceback (most recent call last)",
      "Cell \u001b[1;32mIn[4], line 1\u001b[0m\n\u001b[1;32m----> 1\u001b[0m \u001b[43mpd\u001b[49m\u001b[38;5;241;43m.\u001b[39;49m\u001b[43mread_csv\u001b[49m\u001b[43m(\u001b[49m\u001b[43m)\u001b[49m\n",
      "\u001b[1;31mTypeError\u001b[0m: read_csv() missing 1 required positional argument: 'filepath_or_buffer'"
     ]
    }
   ],
   "source": [
    "pd.read_csv()"
   ]
  },
  {
   "cell_type": "code",
   "execution_count": null,
   "id": "dc7e5cf7-33ae-4903-b335-78a92f20f6f1",
   "metadata": {},
   "outputs": [],
   "source": []
  }
 ],
 "metadata": {
  "kernelspec": {
   "display_name": "Python 3 (ipykernel)",
   "language": "python",
   "name": "python3"
  },
  "language_info": {
   "codemirror_mode": {
    "name": "ipython",
    "version": 3
   },
   "file_extension": ".py",
   "mimetype": "text/x-python",
   "name": "python",
   "nbconvert_exporter": "python",
   "pygments_lexer": "ipython3",
   "version": "3.12.5"
  }
 },
 "nbformat": 4,
 "nbformat_minor": 5
}
